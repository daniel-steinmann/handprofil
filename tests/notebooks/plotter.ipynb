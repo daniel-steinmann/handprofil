{
 "cells": [
  {
   "cell_type": "code",
   "execution_count": 10,
   "metadata": {},
   "outputs": [],
   "source": [
    "import html\n",
    "import pandas as pd\n",
    "import plotly.express as px\n",
    "import dash_mantine_components as dmc\n",
    "import plotly.graph_objects as go\n",
    "from dash import html, dcc\n",
    "import pandas as pd\n",
    "from dash_iconify import DashIconify"
   ]
  },
  {
   "cell_type": "code",
   "execution_count": 21,
   "metadata": {},
   "outputs": [],
   "source": [
    "def __return_ticktext(plot_df):\n",
    "    return plot_df.apply(\n",
    "        lambda x: f\"{f'{x.id:0.0f},':<5} {x.description} ({x.unit})\", axis=1\n",
    "    )\n",
    "\n",
    "\n",
    "def __return_trace(df: pd.DataFrame, color, linestyle, symbol):\n",
    "    return go.Scatter(\n",
    "        x=pd.Series(df.value),\n",
    "        y=pd.Series(df.section_order),\n",
    "        marker=dict(size=16, color=color, symbol=symbol),\n",
    "        mode=\"lines+markers\",\n",
    "        line=go.scatter.Line(color=color, dash=linestyle, width=2),\n",
    "        connectgaps=True,\n",
    "    )\n",
    "\n",
    "\n",
    "def return_section_figure(df: pd.DataFrame, section_id: int):\n",
    "\n",
    "    df_per_section = df[df[\"section_id\"] == section_id]\n",
    "\n",
    "    labelmargin = 200\n",
    "\n",
    "    fig = px.scatter()\n",
    "    ticktext = __return_ticktext(\n",
    "        df_per_section[[\"id\", \"description\", \"unit\"]].drop_duplicates().reset_index())\n",
    "\n",
    "    fig.update_layout(\n",
    "        width=1000,\n",
    "        height=30 * len(ticktext) + 50,\n",
    "        xaxis=dict(\n",
    "            constrain=\"domain\",\n",
    "            gridcolor=\"black\",\n",
    "            linecolor=\"black\",\n",
    "            linewidth=2,\n",
    "            minor=dict(dtick=\"L1\", tick0=\"-0.5\", gridcolor=\"black\"),\n",
    "            mirror=False,\n",
    "            range=[0.5, 19.5],\n",
    "            showgrid=False,\n",
    "            showline=False,\n",
    "            showticklabels=True,\n",
    "            tickfont=dict(family=\"Arial\", color=\"black\", size=14),\n",
    "            ticks=\"outside\",\n",
    "            tickvals=[2, 4, 6, 8, 10, 12, 14, 16, 18],\n",
    "            ticktext=[\"1\", \"2\", \"3\", \"4\", \"5\", \"6\", \"7\", \"8\", \"9\"],\n",
    "            title=\"Dezil\",\n",
    "            zeroline=False,\n",
    "        ),\n",
    "        yaxis=dict(\n",
    "            anchor=\"free\",\n",
    "            constrain=\"domain\",\n",
    "            gridcolor=\"black\",\n",
    "            minor=dict(dtick=\"L1\", tick0=\"-0.5\", gridcolor=\"black\"),\n",
    "            mirror=True,\n",
    "            range=[len(ticktext) - 0.5, -0.5],\n",
    "            scaleanchor=\"x\",\n",
    "            scaleratio=1,\n",
    "            shift=-200,\n",
    "            showgrid=False,\n",
    "            showline=True,\n",
    "            showticklabels=True,\n",
    "            side=\"right\",\n",
    "            title=None,\n",
    "            zeroline=False,\n",
    "        ),\n",
    "        autosize=False,\n",
    "        margin=dict(autoexpand=False, l=labelmargin, r=0, t=0, b=50),\n",
    "        showlegend=False,\n",
    "        paper_bgcolor=\"rgba(0,0,0,0)\",\n",
    "        plot_bgcolor=\"rgba(0,0,0,0)\"\n",
    "    )\n",
    "\n",
    "    fig.add_shape(\n",
    "        # Rectangle with reference to the plot\n",
    "        type=\"rect\",\n",
    "        xref=\"x domain\",\n",
    "        yref=\"y domain\",\n",
    "        x0=0,\n",
    "        y0=0,\n",
    "        x1=1.0,\n",
    "        y1=1.0,\n",
    "        line=dict(\n",
    "            color=\"black\",\n",
    "            width=1,\n",
    "        ),\n",
    "    )\n",
    "\n",
    "    fig.update_layout(\n",
    "        yaxis=dict(\n",
    "            tickfont=dict(family=\"Arial\", color=\"black\", size=14),\n",
    "            tickmode=\"array\",\n",
    "            ticktext=ticktext,\n",
    "            tickvals=ticktext.index,\n",
    "        )\n",
    "    )\n",
    "\n",
    "    for file_id in df_per_section[\"file_id\"].values:\n",
    "        for hand in df_per_section[\"hand\"].values:\n",
    "            color = px.colors.qualitative.G10[file_id]\n",
    "            linestyle = \"solid\" if hand == \"right\" else \"dash\"\n",
    "            symbol = \"circle\" if hand == \"right\" else \"diamond-open\"\n",
    "\n",
    "            in_df = df_per_section.set_index(\n",
    "                [\"file_id\", \"hand\"]).sort_index().loc[(file_id, hand)]\n",
    "            fig.add_trace(__return_trace(in_df, color, linestyle, symbol))\n",
    "\n",
    "    return fig\n",
    "\n",
    "\n",
    "def wrap_figure_in_graph(title: str, figure):\n",
    "    return html.Div(\n",
    "        [\n",
    "            dmc.Title(title, order=2),\n",
    "            dcc.Graph(\n",
    "                # id=\"_wait_time_graph\",\n",
    "                style={\"height\": \"100%\", \"width\": \"100%\"},\n",
    "                className=\"wait_time_graph\",\n",
    "                config={\n",
    "                    \"staticPlot\": False,\n",
    "                    \"editable\": False,\n",
    "                    \"displayModeBar\": False,\n",
    "                },\n",
    "                figure=figure,\n",
    "            )\n",
    "        ],\n",
    "        style={\n",
    "            # \"padding-left\": \"20px\",\n",
    "        }\n",
    "    )"
   ]
  },
  {
   "cell_type": "code",
   "execution_count": 22,
   "metadata": {},
   "outputs": [],
   "source": [
    "input = pd.read_csv(\"plot_input.csv\")"
   ]
  },
  {
   "cell_type": "code",
   "execution_count": 23,
   "metadata": {},
   "outputs": [
    {
     "data": {
      "application/vnd.plotly.v1+json": {
       "config": {
        "plotlyServerURL": "https://plot.ly"
       },
       "data": [
        {
         "hovertemplate": "<extra></extra>",
         "legendgroup": "",
         "marker": {
          "color": "#636efa",
          "symbol": "circle"
         },
         "mode": "markers",
         "name": "",
         "orientation": "v",
         "showlegend": false,
         "type": "scatter",
         "xaxis": "x",
         "yaxis": "y"
        },
        {
         "connectgaps": true,
         "line": {
          "color": "#3366CC",
          "dash": "solid",
          "width": 2
         },
         "marker": {
          "color": "#3366CC",
          "size": 16,
          "symbol": "circle"
         },
         "mode": "lines+markers",
         "type": "scatter",
         "x": [
          14,
          2
         ],
         "y": [
          1,
          0
         ]
        },
        {
         "connectgaps": true,
         "line": {
          "color": "#3366CC",
          "dash": "solid",
          "width": 2
         },
         "marker": {
          "color": "#3366CC",
          "size": 16,
          "symbol": "circle"
         },
         "mode": "lines+markers",
         "type": "scatter",
         "x": [
          14,
          2
         ],
         "y": [
          1,
          0
         ]
        },
        {
         "connectgaps": true,
         "line": {
          "color": "#3366CC",
          "dash": "solid",
          "width": 2
         },
         "marker": {
          "color": "#3366CC",
          "size": 16,
          "symbol": "circle"
         },
         "mode": "lines+markers",
         "type": "scatter",
         "x": [
          14,
          2
         ],
         "y": [
          1,
          0
         ]
        },
        {
         "connectgaps": true,
         "line": {
          "color": "#3366CC",
          "dash": "solid",
          "width": 2
         },
         "marker": {
          "color": "#3366CC",
          "size": 16,
          "symbol": "circle"
         },
         "mode": "lines+markers",
         "type": "scatter",
         "x": [
          14,
          2
         ],
         "y": [
          1,
          0
         ]
        },
        {
         "connectgaps": true,
         "line": {
          "color": "#3366CC",
          "dash": "dash",
          "width": 2
         },
         "marker": {
          "color": "#3366CC",
          "size": 16,
          "symbol": "diamond-open"
         },
         "mode": "lines+markers",
         "type": "scatter",
         "x": [
          12,
          4
         ],
         "y": [
          1,
          0
         ]
        },
        {
         "connectgaps": true,
         "line": {
          "color": "#3366CC",
          "dash": "dash",
          "width": 2
         },
         "marker": {
          "color": "#3366CC",
          "size": 16,
          "symbol": "diamond-open"
         },
         "mode": "lines+markers",
         "type": "scatter",
         "x": [
          12,
          4
         ],
         "y": [
          1,
          0
         ]
        },
        {
         "connectgaps": true,
         "line": {
          "color": "#3366CC",
          "dash": "dash",
          "width": 2
         },
         "marker": {
          "color": "#3366CC",
          "size": 16,
          "symbol": "diamond-open"
         },
         "mode": "lines+markers",
         "type": "scatter",
         "x": [
          12,
          4
         ],
         "y": [
          1,
          0
         ]
        },
        {
         "connectgaps": true,
         "line": {
          "color": "#3366CC",
          "dash": "dash",
          "width": 2
         },
         "marker": {
          "color": "#3366CC",
          "size": 16,
          "symbol": "diamond-open"
         },
         "mode": "lines+markers",
         "type": "scatter",
         "x": [
          12,
          4
         ],
         "y": [
          1,
          0
         ]
        },
        {
         "connectgaps": true,
         "line": {
          "color": "#3366CC",
          "dash": "solid",
          "width": 2
         },
         "marker": {
          "color": "#3366CC",
          "size": 16,
          "symbol": "circle"
         },
         "mode": "lines+markers",
         "type": "scatter",
         "x": [
          14,
          2
         ],
         "y": [
          1,
          0
         ]
        },
        {
         "connectgaps": true,
         "line": {
          "color": "#3366CC",
          "dash": "solid",
          "width": 2
         },
         "marker": {
          "color": "#3366CC",
          "size": 16,
          "symbol": "circle"
         },
         "mode": "lines+markers",
         "type": "scatter",
         "x": [
          14,
          2
         ],
         "y": [
          1,
          0
         ]
        },
        {
         "connectgaps": true,
         "line": {
          "color": "#3366CC",
          "dash": "solid",
          "width": 2
         },
         "marker": {
          "color": "#3366CC",
          "size": 16,
          "symbol": "circle"
         },
         "mode": "lines+markers",
         "type": "scatter",
         "x": [
          14,
          2
         ],
         "y": [
          1,
          0
         ]
        },
        {
         "connectgaps": true,
         "line": {
          "color": "#3366CC",
          "dash": "solid",
          "width": 2
         },
         "marker": {
          "color": "#3366CC",
          "size": 16,
          "symbol": "circle"
         },
         "mode": "lines+markers",
         "type": "scatter",
         "x": [
          14,
          2
         ],
         "y": [
          1,
          0
         ]
        },
        {
         "connectgaps": true,
         "line": {
          "color": "#3366CC",
          "dash": "dash",
          "width": 2
         },
         "marker": {
          "color": "#3366CC",
          "size": 16,
          "symbol": "diamond-open"
         },
         "mode": "lines+markers",
         "type": "scatter",
         "x": [
          12,
          4
         ],
         "y": [
          1,
          0
         ]
        },
        {
         "connectgaps": true,
         "line": {
          "color": "#3366CC",
          "dash": "dash",
          "width": 2
         },
         "marker": {
          "color": "#3366CC",
          "size": 16,
          "symbol": "diamond-open"
         },
         "mode": "lines+markers",
         "type": "scatter",
         "x": [
          12,
          4
         ],
         "y": [
          1,
          0
         ]
        },
        {
         "connectgaps": true,
         "line": {
          "color": "#3366CC",
          "dash": "dash",
          "width": 2
         },
         "marker": {
          "color": "#3366CC",
          "size": 16,
          "symbol": "diamond-open"
         },
         "mode": "lines+markers",
         "type": "scatter",
         "x": [
          12,
          4
         ],
         "y": [
          1,
          0
         ]
        },
        {
         "connectgaps": true,
         "line": {
          "color": "#3366CC",
          "dash": "dash",
          "width": 2
         },
         "marker": {
          "color": "#3366CC",
          "size": 16,
          "symbol": "diamond-open"
         },
         "mode": "lines+markers",
         "type": "scatter",
         "x": [
          12,
          4
         ],
         "y": [
          1,
          0
         ]
        },
        {
         "connectgaps": true,
         "line": {
          "color": "#DC3912",
          "dash": "solid",
          "width": 2
         },
         "marker": {
          "color": "#DC3912",
          "size": 16,
          "symbol": "circle"
         },
         "mode": "lines+markers",
         "type": "scatter",
         "x": [
          2,
          10
         ],
         "y": [
          1,
          0
         ]
        },
        {
         "connectgaps": true,
         "line": {
          "color": "#DC3912",
          "dash": "solid",
          "width": 2
         },
         "marker": {
          "color": "#DC3912",
          "size": 16,
          "symbol": "circle"
         },
         "mode": "lines+markers",
         "type": "scatter",
         "x": [
          2,
          10
         ],
         "y": [
          1,
          0
         ]
        },
        {
         "connectgaps": true,
         "line": {
          "color": "#DC3912",
          "dash": "solid",
          "width": 2
         },
         "marker": {
          "color": "#DC3912",
          "size": 16,
          "symbol": "circle"
         },
         "mode": "lines+markers",
         "type": "scatter",
         "x": [
          2,
          10
         ],
         "y": [
          1,
          0
         ]
        },
        {
         "connectgaps": true,
         "line": {
          "color": "#DC3912",
          "dash": "solid",
          "width": 2
         },
         "marker": {
          "color": "#DC3912",
          "size": 16,
          "symbol": "circle"
         },
         "mode": "lines+markers",
         "type": "scatter",
         "x": [
          2,
          10
         ],
         "y": [
          1,
          0
         ]
        },
        {
         "connectgaps": true,
         "line": {
          "color": "#DC3912",
          "dash": "dash",
          "width": 2
         },
         "marker": {
          "color": "#DC3912",
          "size": 16,
          "symbol": "diamond-open"
         },
         "mode": "lines+markers",
         "type": "scatter",
         "x": [
          3,
          6
         ],
         "y": [
          1,
          0
         ]
        },
        {
         "connectgaps": true,
         "line": {
          "color": "#DC3912",
          "dash": "dash",
          "width": 2
         },
         "marker": {
          "color": "#DC3912",
          "size": 16,
          "symbol": "diamond-open"
         },
         "mode": "lines+markers",
         "type": "scatter",
         "x": [
          3,
          6
         ],
         "y": [
          1,
          0
         ]
        },
        {
         "connectgaps": true,
         "line": {
          "color": "#DC3912",
          "dash": "dash",
          "width": 2
         },
         "marker": {
          "color": "#DC3912",
          "size": 16,
          "symbol": "diamond-open"
         },
         "mode": "lines+markers",
         "type": "scatter",
         "x": [
          3,
          6
         ],
         "y": [
          1,
          0
         ]
        },
        {
         "connectgaps": true,
         "line": {
          "color": "#DC3912",
          "dash": "dash",
          "width": 2
         },
         "marker": {
          "color": "#DC3912",
          "size": 16,
          "symbol": "diamond-open"
         },
         "mode": "lines+markers",
         "type": "scatter",
         "x": [
          3,
          6
         ],
         "y": [
          1,
          0
         ]
        },
        {
         "connectgaps": true,
         "line": {
          "color": "#DC3912",
          "dash": "solid",
          "width": 2
         },
         "marker": {
          "color": "#DC3912",
          "size": 16,
          "symbol": "circle"
         },
         "mode": "lines+markers",
         "type": "scatter",
         "x": [
          2,
          10
         ],
         "y": [
          1,
          0
         ]
        },
        {
         "connectgaps": true,
         "line": {
          "color": "#DC3912",
          "dash": "solid",
          "width": 2
         },
         "marker": {
          "color": "#DC3912",
          "size": 16,
          "symbol": "circle"
         },
         "mode": "lines+markers",
         "type": "scatter",
         "x": [
          2,
          10
         ],
         "y": [
          1,
          0
         ]
        },
        {
         "connectgaps": true,
         "line": {
          "color": "#DC3912",
          "dash": "solid",
          "width": 2
         },
         "marker": {
          "color": "#DC3912",
          "size": 16,
          "symbol": "circle"
         },
         "mode": "lines+markers",
         "type": "scatter",
         "x": [
          2,
          10
         ],
         "y": [
          1,
          0
         ]
        },
        {
         "connectgaps": true,
         "line": {
          "color": "#DC3912",
          "dash": "solid",
          "width": 2
         },
         "marker": {
          "color": "#DC3912",
          "size": 16,
          "symbol": "circle"
         },
         "mode": "lines+markers",
         "type": "scatter",
         "x": [
          2,
          10
         ],
         "y": [
          1,
          0
         ]
        },
        {
         "connectgaps": true,
         "line": {
          "color": "#DC3912",
          "dash": "dash",
          "width": 2
         },
         "marker": {
          "color": "#DC3912",
          "size": 16,
          "symbol": "diamond-open"
         },
         "mode": "lines+markers",
         "type": "scatter",
         "x": [
          3,
          6
         ],
         "y": [
          1,
          0
         ]
        },
        {
         "connectgaps": true,
         "line": {
          "color": "#DC3912",
          "dash": "dash",
          "width": 2
         },
         "marker": {
          "color": "#DC3912",
          "size": 16,
          "symbol": "diamond-open"
         },
         "mode": "lines+markers",
         "type": "scatter",
         "x": [
          3,
          6
         ],
         "y": [
          1,
          0
         ]
        },
        {
         "connectgaps": true,
         "line": {
          "color": "#DC3912",
          "dash": "dash",
          "width": 2
         },
         "marker": {
          "color": "#DC3912",
          "size": 16,
          "symbol": "diamond-open"
         },
         "mode": "lines+markers",
         "type": "scatter",
         "x": [
          3,
          6
         ],
         "y": [
          1,
          0
         ]
        },
        {
         "connectgaps": true,
         "line": {
          "color": "#DC3912",
          "dash": "dash",
          "width": 2
         },
         "marker": {
          "color": "#DC3912",
          "size": 16,
          "symbol": "diamond-open"
         },
         "mode": "lines+markers",
         "type": "scatter",
         "x": [
          3,
          6
         ],
         "y": [
          1,
          0
         ]
        },
        {
         "connectgaps": true,
         "line": {
          "color": "#3366CC",
          "dash": "solid",
          "width": 2
         },
         "marker": {
          "color": "#3366CC",
          "size": 16,
          "symbol": "circle"
         },
         "mode": "lines+markers",
         "type": "scatter",
         "x": [
          14,
          2
         ],
         "y": [
          1,
          0
         ]
        },
        {
         "connectgaps": true,
         "line": {
          "color": "#3366CC",
          "dash": "solid",
          "width": 2
         },
         "marker": {
          "color": "#3366CC",
          "size": 16,
          "symbol": "circle"
         },
         "mode": "lines+markers",
         "type": "scatter",
         "x": [
          14,
          2
         ],
         "y": [
          1,
          0
         ]
        },
        {
         "connectgaps": true,
         "line": {
          "color": "#3366CC",
          "dash": "solid",
          "width": 2
         },
         "marker": {
          "color": "#3366CC",
          "size": 16,
          "symbol": "circle"
         },
         "mode": "lines+markers",
         "type": "scatter",
         "x": [
          14,
          2
         ],
         "y": [
          1,
          0
         ]
        },
        {
         "connectgaps": true,
         "line": {
          "color": "#3366CC",
          "dash": "solid",
          "width": 2
         },
         "marker": {
          "color": "#3366CC",
          "size": 16,
          "symbol": "circle"
         },
         "mode": "lines+markers",
         "type": "scatter",
         "x": [
          14,
          2
         ],
         "y": [
          1,
          0
         ]
        },
        {
         "connectgaps": true,
         "line": {
          "color": "#3366CC",
          "dash": "dash",
          "width": 2
         },
         "marker": {
          "color": "#3366CC",
          "size": 16,
          "symbol": "diamond-open"
         },
         "mode": "lines+markers",
         "type": "scatter",
         "x": [
          12,
          4
         ],
         "y": [
          1,
          0
         ]
        },
        {
         "connectgaps": true,
         "line": {
          "color": "#3366CC",
          "dash": "dash",
          "width": 2
         },
         "marker": {
          "color": "#3366CC",
          "size": 16,
          "symbol": "diamond-open"
         },
         "mode": "lines+markers",
         "type": "scatter",
         "x": [
          12,
          4
         ],
         "y": [
          1,
          0
         ]
        },
        {
         "connectgaps": true,
         "line": {
          "color": "#3366CC",
          "dash": "dash",
          "width": 2
         },
         "marker": {
          "color": "#3366CC",
          "size": 16,
          "symbol": "diamond-open"
         },
         "mode": "lines+markers",
         "type": "scatter",
         "x": [
          12,
          4
         ],
         "y": [
          1,
          0
         ]
        },
        {
         "connectgaps": true,
         "line": {
          "color": "#3366CC",
          "dash": "dash",
          "width": 2
         },
         "marker": {
          "color": "#3366CC",
          "size": 16,
          "symbol": "diamond-open"
         },
         "mode": "lines+markers",
         "type": "scatter",
         "x": [
          12,
          4
         ],
         "y": [
          1,
          0
         ]
        },
        {
         "connectgaps": true,
         "line": {
          "color": "#3366CC",
          "dash": "solid",
          "width": 2
         },
         "marker": {
          "color": "#3366CC",
          "size": 16,
          "symbol": "circle"
         },
         "mode": "lines+markers",
         "type": "scatter",
         "x": [
          14,
          2
         ],
         "y": [
          1,
          0
         ]
        },
        {
         "connectgaps": true,
         "line": {
          "color": "#3366CC",
          "dash": "solid",
          "width": 2
         },
         "marker": {
          "color": "#3366CC",
          "size": 16,
          "symbol": "circle"
         },
         "mode": "lines+markers",
         "type": "scatter",
         "x": [
          14,
          2
         ],
         "y": [
          1,
          0
         ]
        },
        {
         "connectgaps": true,
         "line": {
          "color": "#3366CC",
          "dash": "solid",
          "width": 2
         },
         "marker": {
          "color": "#3366CC",
          "size": 16,
          "symbol": "circle"
         },
         "mode": "lines+markers",
         "type": "scatter",
         "x": [
          14,
          2
         ],
         "y": [
          1,
          0
         ]
        },
        {
         "connectgaps": true,
         "line": {
          "color": "#3366CC",
          "dash": "solid",
          "width": 2
         },
         "marker": {
          "color": "#3366CC",
          "size": 16,
          "symbol": "circle"
         },
         "mode": "lines+markers",
         "type": "scatter",
         "x": [
          14,
          2
         ],
         "y": [
          1,
          0
         ]
        },
        {
         "connectgaps": true,
         "line": {
          "color": "#3366CC",
          "dash": "dash",
          "width": 2
         },
         "marker": {
          "color": "#3366CC",
          "size": 16,
          "symbol": "diamond-open"
         },
         "mode": "lines+markers",
         "type": "scatter",
         "x": [
          12,
          4
         ],
         "y": [
          1,
          0
         ]
        },
        {
         "connectgaps": true,
         "line": {
          "color": "#3366CC",
          "dash": "dash",
          "width": 2
         },
         "marker": {
          "color": "#3366CC",
          "size": 16,
          "symbol": "diamond-open"
         },
         "mode": "lines+markers",
         "type": "scatter",
         "x": [
          12,
          4
         ],
         "y": [
          1,
          0
         ]
        },
        {
         "connectgaps": true,
         "line": {
          "color": "#3366CC",
          "dash": "dash",
          "width": 2
         },
         "marker": {
          "color": "#3366CC",
          "size": 16,
          "symbol": "diamond-open"
         },
         "mode": "lines+markers",
         "type": "scatter",
         "x": [
          12,
          4
         ],
         "y": [
          1,
          0
         ]
        },
        {
         "connectgaps": true,
         "line": {
          "color": "#3366CC",
          "dash": "dash",
          "width": 2
         },
         "marker": {
          "color": "#3366CC",
          "size": 16,
          "symbol": "diamond-open"
         },
         "mode": "lines+markers",
         "type": "scatter",
         "x": [
          12,
          4
         ],
         "y": [
          1,
          0
         ]
        },
        {
         "connectgaps": true,
         "line": {
          "color": "#DC3912",
          "dash": "solid",
          "width": 2
         },
         "marker": {
          "color": "#DC3912",
          "size": 16,
          "symbol": "circle"
         },
         "mode": "lines+markers",
         "type": "scatter",
         "x": [
          2,
          10
         ],
         "y": [
          1,
          0
         ]
        },
        {
         "connectgaps": true,
         "line": {
          "color": "#DC3912",
          "dash": "solid",
          "width": 2
         },
         "marker": {
          "color": "#DC3912",
          "size": 16,
          "symbol": "circle"
         },
         "mode": "lines+markers",
         "type": "scatter",
         "x": [
          2,
          10
         ],
         "y": [
          1,
          0
         ]
        },
        {
         "connectgaps": true,
         "line": {
          "color": "#DC3912",
          "dash": "solid",
          "width": 2
         },
         "marker": {
          "color": "#DC3912",
          "size": 16,
          "symbol": "circle"
         },
         "mode": "lines+markers",
         "type": "scatter",
         "x": [
          2,
          10
         ],
         "y": [
          1,
          0
         ]
        },
        {
         "connectgaps": true,
         "line": {
          "color": "#DC3912",
          "dash": "solid",
          "width": 2
         },
         "marker": {
          "color": "#DC3912",
          "size": 16,
          "symbol": "circle"
         },
         "mode": "lines+markers",
         "type": "scatter",
         "x": [
          2,
          10
         ],
         "y": [
          1,
          0
         ]
        },
        {
         "connectgaps": true,
         "line": {
          "color": "#DC3912",
          "dash": "dash",
          "width": 2
         },
         "marker": {
          "color": "#DC3912",
          "size": 16,
          "symbol": "diamond-open"
         },
         "mode": "lines+markers",
         "type": "scatter",
         "x": [
          3,
          6
         ],
         "y": [
          1,
          0
         ]
        },
        {
         "connectgaps": true,
         "line": {
          "color": "#DC3912",
          "dash": "dash",
          "width": 2
         },
         "marker": {
          "color": "#DC3912",
          "size": 16,
          "symbol": "diamond-open"
         },
         "mode": "lines+markers",
         "type": "scatter",
         "x": [
          3,
          6
         ],
         "y": [
          1,
          0
         ]
        },
        {
         "connectgaps": true,
         "line": {
          "color": "#DC3912",
          "dash": "dash",
          "width": 2
         },
         "marker": {
          "color": "#DC3912",
          "size": 16,
          "symbol": "diamond-open"
         },
         "mode": "lines+markers",
         "type": "scatter",
         "x": [
          3,
          6
         ],
         "y": [
          1,
          0
         ]
        },
        {
         "connectgaps": true,
         "line": {
          "color": "#DC3912",
          "dash": "dash",
          "width": 2
         },
         "marker": {
          "color": "#DC3912",
          "size": 16,
          "symbol": "diamond-open"
         },
         "mode": "lines+markers",
         "type": "scatter",
         "x": [
          3,
          6
         ],
         "y": [
          1,
          0
         ]
        },
        {
         "connectgaps": true,
         "line": {
          "color": "#DC3912",
          "dash": "solid",
          "width": 2
         },
         "marker": {
          "color": "#DC3912",
          "size": 16,
          "symbol": "circle"
         },
         "mode": "lines+markers",
         "type": "scatter",
         "x": [
          2,
          10
         ],
         "y": [
          1,
          0
         ]
        },
        {
         "connectgaps": true,
         "line": {
          "color": "#DC3912",
          "dash": "solid",
          "width": 2
         },
         "marker": {
          "color": "#DC3912",
          "size": 16,
          "symbol": "circle"
         },
         "mode": "lines+markers",
         "type": "scatter",
         "x": [
          2,
          10
         ],
         "y": [
          1,
          0
         ]
        },
        {
         "connectgaps": true,
         "line": {
          "color": "#DC3912",
          "dash": "solid",
          "width": 2
         },
         "marker": {
          "color": "#DC3912",
          "size": 16,
          "symbol": "circle"
         },
         "mode": "lines+markers",
         "type": "scatter",
         "x": [
          2,
          10
         ],
         "y": [
          1,
          0
         ]
        },
        {
         "connectgaps": true,
         "line": {
          "color": "#DC3912",
          "dash": "solid",
          "width": 2
         },
         "marker": {
          "color": "#DC3912",
          "size": 16,
          "symbol": "circle"
         },
         "mode": "lines+markers",
         "type": "scatter",
         "x": [
          2,
          10
         ],
         "y": [
          1,
          0
         ]
        },
        {
         "connectgaps": true,
         "line": {
          "color": "#DC3912",
          "dash": "dash",
          "width": 2
         },
         "marker": {
          "color": "#DC3912",
          "size": 16,
          "symbol": "diamond-open"
         },
         "mode": "lines+markers",
         "type": "scatter",
         "x": [
          3,
          6
         ],
         "y": [
          1,
          0
         ]
        },
        {
         "connectgaps": true,
         "line": {
          "color": "#DC3912",
          "dash": "dash",
          "width": 2
         },
         "marker": {
          "color": "#DC3912",
          "size": 16,
          "symbol": "diamond-open"
         },
         "mode": "lines+markers",
         "type": "scatter",
         "x": [
          3,
          6
         ],
         "y": [
          1,
          0
         ]
        },
        {
         "connectgaps": true,
         "line": {
          "color": "#DC3912",
          "dash": "dash",
          "width": 2
         },
         "marker": {
          "color": "#DC3912",
          "size": 16,
          "symbol": "diamond-open"
         },
         "mode": "lines+markers",
         "type": "scatter",
         "x": [
          3,
          6
         ],
         "y": [
          1,
          0
         ]
        },
        {
         "connectgaps": true,
         "line": {
          "color": "#DC3912",
          "dash": "dash",
          "width": 2
         },
         "marker": {
          "color": "#DC3912",
          "size": 16,
          "symbol": "diamond-open"
         },
         "mode": "lines+markers",
         "type": "scatter",
         "x": [
          3,
          6
         ],
         "y": [
          1,
          0
         ]
        }
       ],
       "layout": {
        "autosize": false,
        "height": 110,
        "legend": {
         "tracegroupgap": 0
        },
        "margin": {
         "autoexpand": false,
         "b": 50,
         "l": 200,
         "r": 0,
         "t": 0
        },
        "paper_bgcolor": "rgba(0,0,0,0)",
        "plot_bgcolor": "rgba(0,0,0,0)",
        "shapes": [
         {
          "line": {
           "color": "black",
           "width": 1
          },
          "type": "rect",
          "x0": 0,
          "x1": 1,
          "xref": "x domain",
          "y0": 0,
          "y1": 1,
          "yref": "y domain"
         }
        ],
        "showlegend": false,
        "template": {
         "data": {
          "bar": [
           {
            "error_x": {
             "color": "#2a3f5f"
            },
            "error_y": {
             "color": "#2a3f5f"
            },
            "marker": {
             "line": {
              "color": "#E5ECF6",
              "width": 0.5
             },
             "pattern": {
              "fillmode": "overlay",
              "size": 10,
              "solidity": 0.2
             }
            },
            "type": "bar"
           }
          ],
          "barpolar": [
           {
            "marker": {
             "line": {
              "color": "#E5ECF6",
              "width": 0.5
             },
             "pattern": {
              "fillmode": "overlay",
              "size": 10,
              "solidity": 0.2
             }
            },
            "type": "barpolar"
           }
          ],
          "carpet": [
           {
            "aaxis": {
             "endlinecolor": "#2a3f5f",
             "gridcolor": "white",
             "linecolor": "white",
             "minorgridcolor": "white",
             "startlinecolor": "#2a3f5f"
            },
            "baxis": {
             "endlinecolor": "#2a3f5f",
             "gridcolor": "white",
             "linecolor": "white",
             "minorgridcolor": "white",
             "startlinecolor": "#2a3f5f"
            },
            "type": "carpet"
           }
          ],
          "choropleth": [
           {
            "colorbar": {
             "outlinewidth": 0,
             "ticks": ""
            },
            "type": "choropleth"
           }
          ],
          "contour": [
           {
            "colorbar": {
             "outlinewidth": 0,
             "ticks": ""
            },
            "colorscale": [
             [
              0,
              "#0d0887"
             ],
             [
              0.1111111111111111,
              "#46039f"
             ],
             [
              0.2222222222222222,
              "#7201a8"
             ],
             [
              0.3333333333333333,
              "#9c179e"
             ],
             [
              0.4444444444444444,
              "#bd3786"
             ],
             [
              0.5555555555555556,
              "#d8576b"
             ],
             [
              0.6666666666666666,
              "#ed7953"
             ],
             [
              0.7777777777777778,
              "#fb9f3a"
             ],
             [
              0.8888888888888888,
              "#fdca26"
             ],
             [
              1,
              "#f0f921"
             ]
            ],
            "type": "contour"
           }
          ],
          "contourcarpet": [
           {
            "colorbar": {
             "outlinewidth": 0,
             "ticks": ""
            },
            "type": "contourcarpet"
           }
          ],
          "heatmap": [
           {
            "colorbar": {
             "outlinewidth": 0,
             "ticks": ""
            },
            "colorscale": [
             [
              0,
              "#0d0887"
             ],
             [
              0.1111111111111111,
              "#46039f"
             ],
             [
              0.2222222222222222,
              "#7201a8"
             ],
             [
              0.3333333333333333,
              "#9c179e"
             ],
             [
              0.4444444444444444,
              "#bd3786"
             ],
             [
              0.5555555555555556,
              "#d8576b"
             ],
             [
              0.6666666666666666,
              "#ed7953"
             ],
             [
              0.7777777777777778,
              "#fb9f3a"
             ],
             [
              0.8888888888888888,
              "#fdca26"
             ],
             [
              1,
              "#f0f921"
             ]
            ],
            "type": "heatmap"
           }
          ],
          "heatmapgl": [
           {
            "colorbar": {
             "outlinewidth": 0,
             "ticks": ""
            },
            "colorscale": [
             [
              0,
              "#0d0887"
             ],
             [
              0.1111111111111111,
              "#46039f"
             ],
             [
              0.2222222222222222,
              "#7201a8"
             ],
             [
              0.3333333333333333,
              "#9c179e"
             ],
             [
              0.4444444444444444,
              "#bd3786"
             ],
             [
              0.5555555555555556,
              "#d8576b"
             ],
             [
              0.6666666666666666,
              "#ed7953"
             ],
             [
              0.7777777777777778,
              "#fb9f3a"
             ],
             [
              0.8888888888888888,
              "#fdca26"
             ],
             [
              1,
              "#f0f921"
             ]
            ],
            "type": "heatmapgl"
           }
          ],
          "histogram": [
           {
            "marker": {
             "pattern": {
              "fillmode": "overlay",
              "size": 10,
              "solidity": 0.2
             }
            },
            "type": "histogram"
           }
          ],
          "histogram2d": [
           {
            "colorbar": {
             "outlinewidth": 0,
             "ticks": ""
            },
            "colorscale": [
             [
              0,
              "#0d0887"
             ],
             [
              0.1111111111111111,
              "#46039f"
             ],
             [
              0.2222222222222222,
              "#7201a8"
             ],
             [
              0.3333333333333333,
              "#9c179e"
             ],
             [
              0.4444444444444444,
              "#bd3786"
             ],
             [
              0.5555555555555556,
              "#d8576b"
             ],
             [
              0.6666666666666666,
              "#ed7953"
             ],
             [
              0.7777777777777778,
              "#fb9f3a"
             ],
             [
              0.8888888888888888,
              "#fdca26"
             ],
             [
              1,
              "#f0f921"
             ]
            ],
            "type": "histogram2d"
           }
          ],
          "histogram2dcontour": [
           {
            "colorbar": {
             "outlinewidth": 0,
             "ticks": ""
            },
            "colorscale": [
             [
              0,
              "#0d0887"
             ],
             [
              0.1111111111111111,
              "#46039f"
             ],
             [
              0.2222222222222222,
              "#7201a8"
             ],
             [
              0.3333333333333333,
              "#9c179e"
             ],
             [
              0.4444444444444444,
              "#bd3786"
             ],
             [
              0.5555555555555556,
              "#d8576b"
             ],
             [
              0.6666666666666666,
              "#ed7953"
             ],
             [
              0.7777777777777778,
              "#fb9f3a"
             ],
             [
              0.8888888888888888,
              "#fdca26"
             ],
             [
              1,
              "#f0f921"
             ]
            ],
            "type": "histogram2dcontour"
           }
          ],
          "mesh3d": [
           {
            "colorbar": {
             "outlinewidth": 0,
             "ticks": ""
            },
            "type": "mesh3d"
           }
          ],
          "parcoords": [
           {
            "line": {
             "colorbar": {
              "outlinewidth": 0,
              "ticks": ""
             }
            },
            "type": "parcoords"
           }
          ],
          "pie": [
           {
            "automargin": true,
            "type": "pie"
           }
          ],
          "scatter": [
           {
            "fillpattern": {
             "fillmode": "overlay",
             "size": 10,
             "solidity": 0.2
            },
            "type": "scatter"
           }
          ],
          "scatter3d": [
           {
            "line": {
             "colorbar": {
              "outlinewidth": 0,
              "ticks": ""
             }
            },
            "marker": {
             "colorbar": {
              "outlinewidth": 0,
              "ticks": ""
             }
            },
            "type": "scatter3d"
           }
          ],
          "scattercarpet": [
           {
            "marker": {
             "colorbar": {
              "outlinewidth": 0,
              "ticks": ""
             }
            },
            "type": "scattercarpet"
           }
          ],
          "scattergeo": [
           {
            "marker": {
             "colorbar": {
              "outlinewidth": 0,
              "ticks": ""
             }
            },
            "type": "scattergeo"
           }
          ],
          "scattergl": [
           {
            "marker": {
             "colorbar": {
              "outlinewidth": 0,
              "ticks": ""
             }
            },
            "type": "scattergl"
           }
          ],
          "scattermapbox": [
           {
            "marker": {
             "colorbar": {
              "outlinewidth": 0,
              "ticks": ""
             }
            },
            "type": "scattermapbox"
           }
          ],
          "scatterpolar": [
           {
            "marker": {
             "colorbar": {
              "outlinewidth": 0,
              "ticks": ""
             }
            },
            "type": "scatterpolar"
           }
          ],
          "scatterpolargl": [
           {
            "marker": {
             "colorbar": {
              "outlinewidth": 0,
              "ticks": ""
             }
            },
            "type": "scatterpolargl"
           }
          ],
          "scatterternary": [
           {
            "marker": {
             "colorbar": {
              "outlinewidth": 0,
              "ticks": ""
             }
            },
            "type": "scatterternary"
           }
          ],
          "surface": [
           {
            "colorbar": {
             "outlinewidth": 0,
             "ticks": ""
            },
            "colorscale": [
             [
              0,
              "#0d0887"
             ],
             [
              0.1111111111111111,
              "#46039f"
             ],
             [
              0.2222222222222222,
              "#7201a8"
             ],
             [
              0.3333333333333333,
              "#9c179e"
             ],
             [
              0.4444444444444444,
              "#bd3786"
             ],
             [
              0.5555555555555556,
              "#d8576b"
             ],
             [
              0.6666666666666666,
              "#ed7953"
             ],
             [
              0.7777777777777778,
              "#fb9f3a"
             ],
             [
              0.8888888888888888,
              "#fdca26"
             ],
             [
              1,
              "#f0f921"
             ]
            ],
            "type": "surface"
           }
          ],
          "table": [
           {
            "cells": {
             "fill": {
              "color": "#EBF0F8"
             },
             "line": {
              "color": "white"
             }
            },
            "header": {
             "fill": {
              "color": "#C8D4E3"
             },
             "line": {
              "color": "white"
             }
            },
            "type": "table"
           }
          ]
         },
         "layout": {
          "annotationdefaults": {
           "arrowcolor": "#2a3f5f",
           "arrowhead": 0,
           "arrowwidth": 1
          },
          "autotypenumbers": "strict",
          "coloraxis": {
           "colorbar": {
            "outlinewidth": 0,
            "ticks": ""
           }
          },
          "colorscale": {
           "diverging": [
            [
             0,
             "#8e0152"
            ],
            [
             0.1,
             "#c51b7d"
            ],
            [
             0.2,
             "#de77ae"
            ],
            [
             0.3,
             "#f1b6da"
            ],
            [
             0.4,
             "#fde0ef"
            ],
            [
             0.5,
             "#f7f7f7"
            ],
            [
             0.6,
             "#e6f5d0"
            ],
            [
             0.7,
             "#b8e186"
            ],
            [
             0.8,
             "#7fbc41"
            ],
            [
             0.9,
             "#4d9221"
            ],
            [
             1,
             "#276419"
            ]
           ],
           "sequential": [
            [
             0,
             "#0d0887"
            ],
            [
             0.1111111111111111,
             "#46039f"
            ],
            [
             0.2222222222222222,
             "#7201a8"
            ],
            [
             0.3333333333333333,
             "#9c179e"
            ],
            [
             0.4444444444444444,
             "#bd3786"
            ],
            [
             0.5555555555555556,
             "#d8576b"
            ],
            [
             0.6666666666666666,
             "#ed7953"
            ],
            [
             0.7777777777777778,
             "#fb9f3a"
            ],
            [
             0.8888888888888888,
             "#fdca26"
            ],
            [
             1,
             "#f0f921"
            ]
           ],
           "sequentialminus": [
            [
             0,
             "#0d0887"
            ],
            [
             0.1111111111111111,
             "#46039f"
            ],
            [
             0.2222222222222222,
             "#7201a8"
            ],
            [
             0.3333333333333333,
             "#9c179e"
            ],
            [
             0.4444444444444444,
             "#bd3786"
            ],
            [
             0.5555555555555556,
             "#d8576b"
            ],
            [
             0.6666666666666666,
             "#ed7953"
            ],
            [
             0.7777777777777778,
             "#fb9f3a"
            ],
            [
             0.8888888888888888,
             "#fdca26"
            ],
            [
             1,
             "#f0f921"
            ]
           ]
          },
          "colorway": [
           "#636efa",
           "#EF553B",
           "#00cc96",
           "#ab63fa",
           "#FFA15A",
           "#19d3f3",
           "#FF6692",
           "#B6E880",
           "#FF97FF",
           "#FECB52"
          ],
          "font": {
           "color": "#2a3f5f"
          },
          "geo": {
           "bgcolor": "white",
           "lakecolor": "white",
           "landcolor": "#E5ECF6",
           "showlakes": true,
           "showland": true,
           "subunitcolor": "white"
          },
          "hoverlabel": {
           "align": "left"
          },
          "hovermode": "closest",
          "mapbox": {
           "style": "light"
          },
          "paper_bgcolor": "white",
          "plot_bgcolor": "#E5ECF6",
          "polar": {
           "angularaxis": {
            "gridcolor": "white",
            "linecolor": "white",
            "ticks": ""
           },
           "bgcolor": "#E5ECF6",
           "radialaxis": {
            "gridcolor": "white",
            "linecolor": "white",
            "ticks": ""
           }
          },
          "scene": {
           "xaxis": {
            "backgroundcolor": "#E5ECF6",
            "gridcolor": "white",
            "gridwidth": 2,
            "linecolor": "white",
            "showbackground": true,
            "ticks": "",
            "zerolinecolor": "white"
           },
           "yaxis": {
            "backgroundcolor": "#E5ECF6",
            "gridcolor": "white",
            "gridwidth": 2,
            "linecolor": "white",
            "showbackground": true,
            "ticks": "",
            "zerolinecolor": "white"
           },
           "zaxis": {
            "backgroundcolor": "#E5ECF6",
            "gridcolor": "white",
            "gridwidth": 2,
            "linecolor": "white",
            "showbackground": true,
            "ticks": "",
            "zerolinecolor": "white"
           }
          },
          "shapedefaults": {
           "line": {
            "color": "#2a3f5f"
           }
          },
          "ternary": {
           "aaxis": {
            "gridcolor": "white",
            "linecolor": "white",
            "ticks": ""
           },
           "baxis": {
            "gridcolor": "white",
            "linecolor": "white",
            "ticks": ""
           },
           "bgcolor": "#E5ECF6",
           "caxis": {
            "gridcolor": "white",
            "linecolor": "white",
            "ticks": ""
           }
          },
          "title": {
           "x": 0.05
          },
          "xaxis": {
           "automargin": true,
           "gridcolor": "white",
           "linecolor": "white",
           "ticks": "",
           "title": {
            "standoff": 15
           },
           "zerolinecolor": "white",
           "zerolinewidth": 2
          },
          "yaxis": {
           "automargin": true,
           "gridcolor": "white",
           "linecolor": "white",
           "ticks": "",
           "title": {
            "standoff": 15
           },
           "zerolinecolor": "white",
           "zerolinewidth": 2
          }
         }
        },
        "width": 1000,
        "xaxis": {
         "anchor": "y",
         "constrain": "domain",
         "domain": [
          0,
          1
         ],
         "gridcolor": "black",
         "linecolor": "black",
         "linewidth": 2,
         "minor": {
          "dtick": "L1",
          "gridcolor": "black",
          "tick0": "-0.5"
         },
         "mirror": false,
         "range": [
          0.5,
          19.5
         ],
         "showgrid": false,
         "showline": false,
         "showticklabels": true,
         "tickfont": {
          "color": "black",
          "family": "Arial",
          "size": 14
         },
         "ticks": "outside",
         "ticktext": [
          "1",
          "2",
          "3",
          "4",
          "5",
          "6",
          "7",
          "8",
          "9"
         ],
         "tickvals": [
          2,
          4,
          6,
          8,
          10,
          12,
          14,
          16,
          18
         ],
         "title": {
          "text": "Dezil"
         },
         "zeroline": false
        },
        "yaxis": {
         "anchor": "free",
         "constrain": "domain",
         "domain": [
          0,
          1
         ],
         "gridcolor": "black",
         "minor": {
          "dtick": "L1",
          "gridcolor": "black",
          "tick0": "-0.5"
         },
         "mirror": true,
         "range": [
          1.5,
          -0.5
         ],
         "scaleanchor": "x",
         "scaleratio": 1,
         "shift": -200,
         "showgrid": false,
         "showline": true,
         "showticklabels": true,
         "side": "right",
         "tickfont": {
          "color": "black",
          "family": "Arial",
          "size": 14
         },
         "tickmode": "array",
         "ticktext": [
          "1,    Handlänge (mm)",
          "2,    Handbreite (mm)"
         ],
         "tickvals": [
          0,
          1
         ],
         "title": {},
         "zeroline": false
        }
       }
      }
     },
     "metadata": {},
     "output_type": "display_data"
    }
   ],
   "source": [
    "section_id = 0\n",
    "df = input\n",
    "return_section_figure(df,0)"
   ]
  },
  {
   "cell_type": "code",
   "execution_count": 24,
   "metadata": {},
   "outputs": [
    {
     "data": {
      "application/vnd.plotly.v1+json": {
       "config": {
        "plotlyServerURL": "https://plot.ly"
       },
       "data": [
        {
         "hovertemplate": "<extra></extra>",
         "legendgroup": "",
         "marker": {
          "color": "#636efa",
          "symbol": "circle"
         },
         "mode": "markers",
         "name": "",
         "orientation": "v",
         "showlegend": false,
         "type": "scatter",
         "xaxis": "x",
         "yaxis": "y"
        },
        {
         "connectgaps": true,
         "line": {
          "color": "#3366CC",
          "dash": "solid",
          "width": 2
         },
         "marker": {
          "color": "#3366CC",
          "size": 16,
          "symbol": "circle"
         },
         "mode": "lines+markers",
         "type": "scatter",
         "x": [
          2
         ],
         "y": [
          0
         ]
        },
        {
         "connectgaps": true,
         "line": {
          "color": "#3366CC",
          "dash": "dash",
          "width": 2
         },
         "marker": {
          "color": "#3366CC",
          "size": 16,
          "symbol": "diamond-open"
         },
         "mode": "lines+markers",
         "type": "scatter",
         "x": [
          10
         ],
         "y": [
          0
         ]
        },
        {
         "connectgaps": true,
         "line": {
          "color": "#3366CC",
          "dash": "solid",
          "width": 2
         },
         "marker": {
          "color": "#3366CC",
          "size": 16,
          "symbol": "circle"
         },
         "mode": "lines+markers",
         "type": "scatter",
         "x": [
          2
         ],
         "y": [
          0
         ]
        },
        {
         "connectgaps": true,
         "line": {
          "color": "#3366CC",
          "dash": "dash",
          "width": 2
         },
         "marker": {
          "color": "#3366CC",
          "size": 16,
          "symbol": "diamond-open"
         },
         "mode": "lines+markers",
         "type": "scatter",
         "x": [
          10
         ],
         "y": [
          0
         ]
        }
       ],
       "layout": {
        "autosize": false,
        "height": 80,
        "legend": {
         "tracegroupgap": 0
        },
        "margin": {
         "autoexpand": false,
         "b": 50,
         "l": 200,
         "r": 0,
         "t": 0
        },
        "paper_bgcolor": "rgba(0,0,0,0)",
        "plot_bgcolor": "rgba(0,0,0,0)",
        "shapes": [
         {
          "line": {
           "color": "black",
           "width": 1
          },
          "type": "rect",
          "x0": 0,
          "x1": 1,
          "xref": "x domain",
          "y0": 0,
          "y1": 1,
          "yref": "y domain"
         }
        ],
        "showlegend": false,
        "template": {
         "data": {
          "bar": [
           {
            "error_x": {
             "color": "#2a3f5f"
            },
            "error_y": {
             "color": "#2a3f5f"
            },
            "marker": {
             "line": {
              "color": "#E5ECF6",
              "width": 0.5
             },
             "pattern": {
              "fillmode": "overlay",
              "size": 10,
              "solidity": 0.2
             }
            },
            "type": "bar"
           }
          ],
          "barpolar": [
           {
            "marker": {
             "line": {
              "color": "#E5ECF6",
              "width": 0.5
             },
             "pattern": {
              "fillmode": "overlay",
              "size": 10,
              "solidity": 0.2
             }
            },
            "type": "barpolar"
           }
          ],
          "carpet": [
           {
            "aaxis": {
             "endlinecolor": "#2a3f5f",
             "gridcolor": "white",
             "linecolor": "white",
             "minorgridcolor": "white",
             "startlinecolor": "#2a3f5f"
            },
            "baxis": {
             "endlinecolor": "#2a3f5f",
             "gridcolor": "white",
             "linecolor": "white",
             "minorgridcolor": "white",
             "startlinecolor": "#2a3f5f"
            },
            "type": "carpet"
           }
          ],
          "choropleth": [
           {
            "colorbar": {
             "outlinewidth": 0,
             "ticks": ""
            },
            "type": "choropleth"
           }
          ],
          "contour": [
           {
            "colorbar": {
             "outlinewidth": 0,
             "ticks": ""
            },
            "colorscale": [
             [
              0,
              "#0d0887"
             ],
             [
              0.1111111111111111,
              "#46039f"
             ],
             [
              0.2222222222222222,
              "#7201a8"
             ],
             [
              0.3333333333333333,
              "#9c179e"
             ],
             [
              0.4444444444444444,
              "#bd3786"
             ],
             [
              0.5555555555555556,
              "#d8576b"
             ],
             [
              0.6666666666666666,
              "#ed7953"
             ],
             [
              0.7777777777777778,
              "#fb9f3a"
             ],
             [
              0.8888888888888888,
              "#fdca26"
             ],
             [
              1,
              "#f0f921"
             ]
            ],
            "type": "contour"
           }
          ],
          "contourcarpet": [
           {
            "colorbar": {
             "outlinewidth": 0,
             "ticks": ""
            },
            "type": "contourcarpet"
           }
          ],
          "heatmap": [
           {
            "colorbar": {
             "outlinewidth": 0,
             "ticks": ""
            },
            "colorscale": [
             [
              0,
              "#0d0887"
             ],
             [
              0.1111111111111111,
              "#46039f"
             ],
             [
              0.2222222222222222,
              "#7201a8"
             ],
             [
              0.3333333333333333,
              "#9c179e"
             ],
             [
              0.4444444444444444,
              "#bd3786"
             ],
             [
              0.5555555555555556,
              "#d8576b"
             ],
             [
              0.6666666666666666,
              "#ed7953"
             ],
             [
              0.7777777777777778,
              "#fb9f3a"
             ],
             [
              0.8888888888888888,
              "#fdca26"
             ],
             [
              1,
              "#f0f921"
             ]
            ],
            "type": "heatmap"
           }
          ],
          "heatmapgl": [
           {
            "colorbar": {
             "outlinewidth": 0,
             "ticks": ""
            },
            "colorscale": [
             [
              0,
              "#0d0887"
             ],
             [
              0.1111111111111111,
              "#46039f"
             ],
             [
              0.2222222222222222,
              "#7201a8"
             ],
             [
              0.3333333333333333,
              "#9c179e"
             ],
             [
              0.4444444444444444,
              "#bd3786"
             ],
             [
              0.5555555555555556,
              "#d8576b"
             ],
             [
              0.6666666666666666,
              "#ed7953"
             ],
             [
              0.7777777777777778,
              "#fb9f3a"
             ],
             [
              0.8888888888888888,
              "#fdca26"
             ],
             [
              1,
              "#f0f921"
             ]
            ],
            "type": "heatmapgl"
           }
          ],
          "histogram": [
           {
            "marker": {
             "pattern": {
              "fillmode": "overlay",
              "size": 10,
              "solidity": 0.2
             }
            },
            "type": "histogram"
           }
          ],
          "histogram2d": [
           {
            "colorbar": {
             "outlinewidth": 0,
             "ticks": ""
            },
            "colorscale": [
             [
              0,
              "#0d0887"
             ],
             [
              0.1111111111111111,
              "#46039f"
             ],
             [
              0.2222222222222222,
              "#7201a8"
             ],
             [
              0.3333333333333333,
              "#9c179e"
             ],
             [
              0.4444444444444444,
              "#bd3786"
             ],
             [
              0.5555555555555556,
              "#d8576b"
             ],
             [
              0.6666666666666666,
              "#ed7953"
             ],
             [
              0.7777777777777778,
              "#fb9f3a"
             ],
             [
              0.8888888888888888,
              "#fdca26"
             ],
             [
              1,
              "#f0f921"
             ]
            ],
            "type": "histogram2d"
           }
          ],
          "histogram2dcontour": [
           {
            "colorbar": {
             "outlinewidth": 0,
             "ticks": ""
            },
            "colorscale": [
             [
              0,
              "#0d0887"
             ],
             [
              0.1111111111111111,
              "#46039f"
             ],
             [
              0.2222222222222222,
              "#7201a8"
             ],
             [
              0.3333333333333333,
              "#9c179e"
             ],
             [
              0.4444444444444444,
              "#bd3786"
             ],
             [
              0.5555555555555556,
              "#d8576b"
             ],
             [
              0.6666666666666666,
              "#ed7953"
             ],
             [
              0.7777777777777778,
              "#fb9f3a"
             ],
             [
              0.8888888888888888,
              "#fdca26"
             ],
             [
              1,
              "#f0f921"
             ]
            ],
            "type": "histogram2dcontour"
           }
          ],
          "mesh3d": [
           {
            "colorbar": {
             "outlinewidth": 0,
             "ticks": ""
            },
            "type": "mesh3d"
           }
          ],
          "parcoords": [
           {
            "line": {
             "colorbar": {
              "outlinewidth": 0,
              "ticks": ""
             }
            },
            "type": "parcoords"
           }
          ],
          "pie": [
           {
            "automargin": true,
            "type": "pie"
           }
          ],
          "scatter": [
           {
            "fillpattern": {
             "fillmode": "overlay",
             "size": 10,
             "solidity": 0.2
            },
            "type": "scatter"
           }
          ],
          "scatter3d": [
           {
            "line": {
             "colorbar": {
              "outlinewidth": 0,
              "ticks": ""
             }
            },
            "marker": {
             "colorbar": {
              "outlinewidth": 0,
              "ticks": ""
             }
            },
            "type": "scatter3d"
           }
          ],
          "scattercarpet": [
           {
            "marker": {
             "colorbar": {
              "outlinewidth": 0,
              "ticks": ""
             }
            },
            "type": "scattercarpet"
           }
          ],
          "scattergeo": [
           {
            "marker": {
             "colorbar": {
              "outlinewidth": 0,
              "ticks": ""
             }
            },
            "type": "scattergeo"
           }
          ],
          "scattergl": [
           {
            "marker": {
             "colorbar": {
              "outlinewidth": 0,
              "ticks": ""
             }
            },
            "type": "scattergl"
           }
          ],
          "scattermapbox": [
           {
            "marker": {
             "colorbar": {
              "outlinewidth": 0,
              "ticks": ""
             }
            },
            "type": "scattermapbox"
           }
          ],
          "scatterpolar": [
           {
            "marker": {
             "colorbar": {
              "outlinewidth": 0,
              "ticks": ""
             }
            },
            "type": "scatterpolar"
           }
          ],
          "scatterpolargl": [
           {
            "marker": {
             "colorbar": {
              "outlinewidth": 0,
              "ticks": ""
             }
            },
            "type": "scatterpolargl"
           }
          ],
          "scatterternary": [
           {
            "marker": {
             "colorbar": {
              "outlinewidth": 0,
              "ticks": ""
             }
            },
            "type": "scatterternary"
           }
          ],
          "surface": [
           {
            "colorbar": {
             "outlinewidth": 0,
             "ticks": ""
            },
            "colorscale": [
             [
              0,
              "#0d0887"
             ],
             [
              0.1111111111111111,
              "#46039f"
             ],
             [
              0.2222222222222222,
              "#7201a8"
             ],
             [
              0.3333333333333333,
              "#9c179e"
             ],
             [
              0.4444444444444444,
              "#bd3786"
             ],
             [
              0.5555555555555556,
              "#d8576b"
             ],
             [
              0.6666666666666666,
              "#ed7953"
             ],
             [
              0.7777777777777778,
              "#fb9f3a"
             ],
             [
              0.8888888888888888,
              "#fdca26"
             ],
             [
              1,
              "#f0f921"
             ]
            ],
            "type": "surface"
           }
          ],
          "table": [
           {
            "cells": {
             "fill": {
              "color": "#EBF0F8"
             },
             "line": {
              "color": "white"
             }
            },
            "header": {
             "fill": {
              "color": "#C8D4E3"
             },
             "line": {
              "color": "white"
             }
            },
            "type": "table"
           }
          ]
         },
         "layout": {
          "annotationdefaults": {
           "arrowcolor": "#2a3f5f",
           "arrowhead": 0,
           "arrowwidth": 1
          },
          "autotypenumbers": "strict",
          "coloraxis": {
           "colorbar": {
            "outlinewidth": 0,
            "ticks": ""
           }
          },
          "colorscale": {
           "diverging": [
            [
             0,
             "#8e0152"
            ],
            [
             0.1,
             "#c51b7d"
            ],
            [
             0.2,
             "#de77ae"
            ],
            [
             0.3,
             "#f1b6da"
            ],
            [
             0.4,
             "#fde0ef"
            ],
            [
             0.5,
             "#f7f7f7"
            ],
            [
             0.6,
             "#e6f5d0"
            ],
            [
             0.7,
             "#b8e186"
            ],
            [
             0.8,
             "#7fbc41"
            ],
            [
             0.9,
             "#4d9221"
            ],
            [
             1,
             "#276419"
            ]
           ],
           "sequential": [
            [
             0,
             "#0d0887"
            ],
            [
             0.1111111111111111,
             "#46039f"
            ],
            [
             0.2222222222222222,
             "#7201a8"
            ],
            [
             0.3333333333333333,
             "#9c179e"
            ],
            [
             0.4444444444444444,
             "#bd3786"
            ],
            [
             0.5555555555555556,
             "#d8576b"
            ],
            [
             0.6666666666666666,
             "#ed7953"
            ],
            [
             0.7777777777777778,
             "#fb9f3a"
            ],
            [
             0.8888888888888888,
             "#fdca26"
            ],
            [
             1,
             "#f0f921"
            ]
           ],
           "sequentialminus": [
            [
             0,
             "#0d0887"
            ],
            [
             0.1111111111111111,
             "#46039f"
            ],
            [
             0.2222222222222222,
             "#7201a8"
            ],
            [
             0.3333333333333333,
             "#9c179e"
            ],
            [
             0.4444444444444444,
             "#bd3786"
            ],
            [
             0.5555555555555556,
             "#d8576b"
            ],
            [
             0.6666666666666666,
             "#ed7953"
            ],
            [
             0.7777777777777778,
             "#fb9f3a"
            ],
            [
             0.8888888888888888,
             "#fdca26"
            ],
            [
             1,
             "#f0f921"
            ]
           ]
          },
          "colorway": [
           "#636efa",
           "#EF553B",
           "#00cc96",
           "#ab63fa",
           "#FFA15A",
           "#19d3f3",
           "#FF6692",
           "#B6E880",
           "#FF97FF",
           "#FECB52"
          ],
          "font": {
           "color": "#2a3f5f"
          },
          "geo": {
           "bgcolor": "white",
           "lakecolor": "white",
           "landcolor": "#E5ECF6",
           "showlakes": true,
           "showland": true,
           "subunitcolor": "white"
          },
          "hoverlabel": {
           "align": "left"
          },
          "hovermode": "closest",
          "mapbox": {
           "style": "light"
          },
          "paper_bgcolor": "white",
          "plot_bgcolor": "#E5ECF6",
          "polar": {
           "angularaxis": {
            "gridcolor": "white",
            "linecolor": "white",
            "ticks": ""
           },
           "bgcolor": "#E5ECF6",
           "radialaxis": {
            "gridcolor": "white",
            "linecolor": "white",
            "ticks": ""
           }
          },
          "scene": {
           "xaxis": {
            "backgroundcolor": "#E5ECF6",
            "gridcolor": "white",
            "gridwidth": 2,
            "linecolor": "white",
            "showbackground": true,
            "ticks": "",
            "zerolinecolor": "white"
           },
           "yaxis": {
            "backgroundcolor": "#E5ECF6",
            "gridcolor": "white",
            "gridwidth": 2,
            "linecolor": "white",
            "showbackground": true,
            "ticks": "",
            "zerolinecolor": "white"
           },
           "zaxis": {
            "backgroundcolor": "#E5ECF6",
            "gridcolor": "white",
            "gridwidth": 2,
            "linecolor": "white",
            "showbackground": true,
            "ticks": "",
            "zerolinecolor": "white"
           }
          },
          "shapedefaults": {
           "line": {
            "color": "#2a3f5f"
           }
          },
          "ternary": {
           "aaxis": {
            "gridcolor": "white",
            "linecolor": "white",
            "ticks": ""
           },
           "baxis": {
            "gridcolor": "white",
            "linecolor": "white",
            "ticks": ""
           },
           "bgcolor": "#E5ECF6",
           "caxis": {
            "gridcolor": "white",
            "linecolor": "white",
            "ticks": ""
           }
          },
          "title": {
           "x": 0.05
          },
          "xaxis": {
           "automargin": true,
           "gridcolor": "white",
           "linecolor": "white",
           "ticks": "",
           "title": {
            "standoff": 15
           },
           "zerolinecolor": "white",
           "zerolinewidth": 2
          },
          "yaxis": {
           "automargin": true,
           "gridcolor": "white",
           "linecolor": "white",
           "ticks": "",
           "title": {
            "standoff": 15
           },
           "zerolinecolor": "white",
           "zerolinewidth": 2
          }
         }
        },
        "width": 1000,
        "xaxis": {
         "anchor": "y",
         "constrain": "domain",
         "domain": [
          0,
          1
         ],
         "gridcolor": "black",
         "linecolor": "black",
         "linewidth": 2,
         "minor": {
          "dtick": "L1",
          "gridcolor": "black",
          "tick0": "-0.5"
         },
         "mirror": false,
         "range": [
          0.5,
          19.5
         ],
         "showgrid": false,
         "showline": false,
         "showticklabels": true,
         "tickfont": {
          "color": "black",
          "family": "Arial",
          "size": 14
         },
         "ticks": "outside",
         "ticktext": [
          "1",
          "2",
          "3",
          "4",
          "5",
          "6",
          "7",
          "8",
          "9"
         ],
         "tickvals": [
          2,
          4,
          6,
          8,
          10,
          12,
          14,
          16,
          18
         ],
         "title": {
          "text": "Dezil"
         },
         "zeroline": false
        },
        "yaxis": {
         "anchor": "free",
         "constrain": "domain",
         "domain": [
          0,
          1
         ],
         "gridcolor": "black",
         "minor": {
          "dtick": "L1",
          "gridcolor": "black",
          "tick0": "-0.5"
         },
         "mirror": true,
         "range": [
          0.5,
          -0.5
         ],
         "scaleanchor": "x",
         "scaleratio": 1,
         "shift": -200,
         "showgrid": false,
         "showline": true,
         "showticklabels": true,
         "side": "right",
         "tickfont": {
          "color": "black",
          "family": "Arial",
          "size": 14
         },
         "tickmode": "array",
         "ticktext": [
          "3,    Fingerlänge (mm)"
         ],
         "tickvals": [
          0
         ],
         "title": {},
         "zeroline": false
        }
       }
      }
     },
     "metadata": {},
     "output_type": "display_data"
    }
   ],
   "source": [
    "return_section_figure(df,1)"
   ]
  },
  {
   "cell_type": "code",
   "execution_count": 20,
   "metadata": {},
   "outputs": [
    {
     "data": {
      "text/html": [
       "<div>\n",
       "<style scoped>\n",
       "    .dataframe tbody tr th:only-of-type {\n",
       "        vertical-align: middle;\n",
       "    }\n",
       "\n",
       "    .dataframe tbody tr th {\n",
       "        vertical-align: top;\n",
       "    }\n",
       "\n",
       "    .dataframe thead th {\n",
       "        text-align: right;\n",
       "    }\n",
       "</style>\n",
       "<table border=\"1\" class=\"dataframe\">\n",
       "  <thead>\n",
       "    <tr style=\"text-align: right;\">\n",
       "      <th></th>\n",
       "      <th>id</th>\n",
       "      <th>description</th>\n",
       "      <th>unit</th>\n",
       "    </tr>\n",
       "  </thead>\n",
       "  <tbody>\n",
       "    <tr>\n",
       "      <th>2</th>\n",
       "      <td>3</td>\n",
       "      <td>Fingerlänge</td>\n",
       "      <td>mm</td>\n",
       "    </tr>\n",
       "  </tbody>\n",
       "</table>\n",
       "</div>"
      ],
      "text/plain": [
       "   id  description unit\n",
       "2   3  Fingerlänge   mm"
      ]
     },
     "execution_count": 20,
     "metadata": {},
     "output_type": "execute_result"
    }
   ],
   "source": [
    "df_per_section = df[df[\"section_id\"]==1]\n",
    "df_per_section[[\"id\", \"description\", \"unit\"]].drop_duplicates()"
   ]
  },
  {
   "cell_type": "code",
   "execution_count": null,
   "metadata": {},
   "outputs": [],
   "source": []
  }
 ],
 "metadata": {
  "kernelspec": {
   "display_name": ".venv",
   "language": "python",
   "name": "python3"
  },
  "language_info": {
   "codemirror_mode": {
    "name": "ipython",
    "version": 3
   },
   "file_extension": ".py",
   "mimetype": "text/x-python",
   "name": "python",
   "nbconvert_exporter": "python",
   "pygments_lexer": "ipython3",
   "version": "3.10.13"
  }
 },
 "nbformat": 4,
 "nbformat_minor": 2
}
